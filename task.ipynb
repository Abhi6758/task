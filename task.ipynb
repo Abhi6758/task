{
 "cells": [
  {
   "cell_type": "code",
   "execution_count": 1,
   "id": "1d27afd0-c780-41b5-9ac9-09d3092c4719",
   "metadata": {},
   "outputs": [
    {
     "name": "stdout",
     "output_type": "stream",
     "text": [
      "Costs calculated and saved to 'package_costs.txt'.\n",
      "Package ID: 1, Cost: $26.00\n",
      "Package ID: 2, Cost: $25.00\n",
      "Package ID: 3, Cost: $19.00\n",
      "Package ID: 4, Cost: $21.50\n",
      "Package ID: 5, Cost: $48.00\n"
     ]
    }
   ],
   "source": [
    "# Sample Data\n",
    "data = [\n",
    "    {'Package ID': 1, 'Weight (kg)': 3, 'Distance (km)': 10, 'Delivery Type': 'Express'},\n",
    "    {'Package ID': 2, 'Weight (kg)': 5, 'Distance (km)': 25, 'Delivery Type': 'Standard'},\n",
    "    {'Package ID': 3, 'Weight (kg)': 2, 'Distance (km)': 5, 'Delivery Type': 'Express'},\n",
    "    {'Package ID': 4, 'Weight (kg)': 6, 'Distance (km)': 15, 'Delivery Type': 'Standard'},\n",
    "    {'Package ID': 5, 'Weight (kg)': 4, 'Distance (km)': 30, 'Delivery Type': 'Express'}]\n",
    "cost_grid = {\n",
    "    'Express': { 'Base Cost': 10, 'Cost per kg': 2, 'Cost per km': 1,},\n",
    "    'Standard': { 'Base Cost': 5, 'Cost per kg': 1.5,'Cost per km': 0.5,}}\n",
    "def calculate_cost(package):\n",
    "    delivery_type = package['Delivery Type']\n",
    "    base_cost = cost_grid[delivery_type]['Base Cost']\n",
    "    cost_per_kg = cost_grid[delivery_type]['Cost per kg']\n",
    "    cost_per_km = cost_grid[delivery_type]['Cost per km']\n",
    "    weight = package['Weight (kg)']\n",
    "    distance = package['Distance (km)']\n",
    "    total_cost = base_cost + (cost_per_kg * weight) + (cost_per_km * distance)\n",
    "    return total_cost\n",
    "package_costs = {}\n",
    "for package in data:\n",
    "    package_id = package['Package ID']\n",
    "    cost = calculate_cost(package)\n",
    "    package_costs[package_id] = cost\n",
    "with open('package_costs.txt', 'w') as file:\n",
    "    for package_id, cost in package_costs.items():\n",
    "        file.write(f'Package ID: {package_id}, Cost: ${cost:.2f}\\n')\n",
    "print(\"Costs calculated and saved to 'package_costs.txt'.\")\n",
    "for package_id, cost in package_costs.items():\n",
    "    print(f'Package ID: {package_id}, Cost: ${cost:.2f}')"
   ]
  },
  {
   "cell_type": "code",
   "execution_count": null,
   "id": "9feed5f0-295b-4936-907d-7aea23d25d8a",
   "metadata": {},
   "outputs": [],
   "source": []
  }
 ],
 "metadata": {
  "kernelspec": {
   "display_name": "Python 3 (ipykernel)",
   "language": "python",
   "name": "python3"
  },
  "language_info": {
   "codemirror_mode": {
    "name": "ipython",
    "version": 3
   },
   "file_extension": ".py",
   "mimetype": "text/x-python",
   "name": "python",
   "nbconvert_exporter": "python",
   "pygments_lexer": "ipython3",
   "version": "3.10.8"
  }
 },
 "nbformat": 4,
 "nbformat_minor": 5
}
